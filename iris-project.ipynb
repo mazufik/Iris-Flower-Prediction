{
 "cells": [
  {
   "cell_type": "markdown",
   "id": "9e4fbb04-7809-4225-8657-082d7911ed1b",
   "metadata": {
    "tags": []
   },
   "source": [
    "## Iris Dataset: Simple Exploratory Data Analysis (EDA)"
   ]
  },
  {
   "cell_type": "markdown",
   "id": "b9cf543f-585f-4a05-8808-b648ba1a346b",
   "metadata": {
    "tags": []
   },
   "source": [
    "### Import Modules"
   ]
  },
  {
   "cell_type": "code",
   "execution_count": null,
   "id": "856e284f-3469-4475-b2d2-525b4641e87d",
   "metadata": {},
   "outputs": [],
   "source": [
    "import pandas as pd # olah dan analisis data"
   ]
  },
  {
   "cell_type": "markdown",
   "id": "e470f50a-3f8b-4450-acea-7b0fc08ab04e",
   "metadata": {},
   "source": [
    "### Load dataset"
   ]
  },
  {
   "cell_type": "code",
   "execution_count": null,
   "id": "61ba2398-b983-48cb-a13b-30e8c2659440",
   "metadata": {},
   "outputs": [],
   "source": [
    "iris_df = pd.read_csv('./dataset/iris/Iris.csv') # memuat file csv sebagai data frame\n",
    "iris_df.head() # tampilkan 5 baris pertama"
   ]
  },
  {
   "cell_type": "markdown",
   "id": "017f45bd-e092-4aff-825f-52947918d259",
   "metadata": {},
   "source": [
    "### Drop column 'Id'"
   ]
  },
  {
   "cell_type": "code",
   "execution_count": null,
   "id": "a2d035f8-e843-4046-8f58-13eb59583a1d",
   "metadata": {},
   "outputs": [],
   "source": [
    "iris_df.drop(columns='Id', inplace=True) # menghapus kolom bernama 'Id'\n",
    "iris_df.head() # tampilkan 5 baris pertama"
   ]
  },
  {
   "cell_type": "markdown",
   "id": "d4b3f901-0844-4f0d-93da-71fc09a90bca",
   "metadata": {},
   "source": [
    "### Identify the shape of the dataset"
   ]
  },
  {
   "cell_type": "code",
   "execution_count": null,
   "id": "67f84729-5ad8-460e-b3ca-4a8e1cfa7355",
   "metadata": {},
   "outputs": [],
   "source": [
    "iris_df.shape # bentuk/dimensi dataset (baris, kolom)"
   ]
  },
  {
   "cell_type": "markdown",
   "id": "5daa6d51-61a1-493c-8631-cec7ad4b45e8",
   "metadata": {},
   "source": [
    "### Get the list of columns"
   ]
  },
  {
   "cell_type": "code",
   "execution_count": null,
   "id": "f564f815-09ce-4754-82a8-8ef30a6a7350",
   "metadata": {},
   "outputs": [],
   "source": [
    "iris_df.columns # daftar nama kolom"
   ]
  },
  {
   "cell_type": "markdown",
   "id": "395869fd-2862-4f71-81d4-a8d853123fee",
   "metadata": {},
   "source": [
    "### Identify data types for each column"
   ]
  },
  {
   "cell_type": "code",
   "execution_count": null,
   "id": "357834c2-7b7b-43a7-a436-06548e230602",
   "metadata": {},
   "outputs": [],
   "source": [
    "iris_df.dtypes"
   ]
  },
  {
   "cell_type": "markdown",
   "id": "55826b82-1bff-46e1-8338-c25df4116cf0",
   "metadata": {},
   "source": [
    "### Get bassic dataset information"
   ]
  },
  {
   "cell_type": "code",
   "execution_count": null,
   "id": "616608d2-3520-4c01-9c46-538a72e0479a",
   "metadata": {},
   "outputs": [],
   "source": [
    "iris_df.info() # informasi dataset"
   ]
  },
  {
   "cell_type": "markdown",
   "id": "c2cf197e-160f-46e1-bda3-0f100dbc8ed9",
   "metadata": {},
   "source": [
    "### Identify missing values"
   ]
  },
  {
   "cell_type": "code",
   "execution_count": null,
   "id": "15defab5-1970-41bd-8712-aadc5be371d6",
   "metadata": {},
   "outputs": [],
   "source": [
    "iris_df.isna().values.any() # mendeteksi keberadaan nilai kosong"
   ]
  },
  {
   "cell_type": "markdown",
   "id": "10613fb9-531e-47c4-8227-ff681c49306c",
   "metadata": {},
   "source": [
    "### Identify duplicate entries/rows"
   ]
  },
  {
   "cell_type": "code",
   "execution_count": null,
   "id": "25f2d538-bf88-418a-b981-b901abc911da",
   "metadata": {},
   "outputs": [],
   "source": [
    "# iris_df[iris_df.duplicated(keep=False)] # tampilkan seluruh baris dengan duplikasi\n",
    "iris_df[iris_df.duplicated()] # tampilkan hanya duplikasi sekunder"
   ]
  },
  {
   "cell_type": "code",
   "execution_count": null,
   "id": "553f00c3-3569-489f-8f7f-3acc9ab0c091",
   "metadata": {},
   "outputs": [],
   "source": [
    "iris_df.duplicated().value_counts() # hitung jumlah duplikasi data"
   ]
  },
  {
   "cell_type": "markdown",
   "id": "5f0ab123-0e29-4dff-8feb-cafefb9b66f0",
   "metadata": {},
   "source": [
    "### Drop duplicate entries/rows"
   ]
  },
  {
   "cell_type": "code",
   "execution_count": null,
   "id": "ccf1fcad-2582-4921-a474-4e1b13267b91",
   "metadata": {},
   "outputs": [],
   "source": [
    "iris_df.drop_duplicates(inplace=True) # menghapus duplikasi data\n",
    "iris_df.shape"
   ]
  },
  {
   "cell_type": "markdown",
   "id": "a9414c56-cabe-4da9-82c1-e536c8230107",
   "metadata": {},
   "source": [
    "### Describe the dataset"
   ]
  },
  {
   "cell_type": "code",
   "execution_count": null,
   "id": "df93aa00-4e6c-4d92-9088-dbe79bb63b21",
   "metadata": {},
   "outputs": [],
   "source": [
    "iris_df.describe() # deskripsi data"
   ]
  },
  {
   "cell_type": "markdown",
   "id": "3d0abc29-0b77-4345-89db-cc1c441ad69b",
   "metadata": {},
   "source": [
    "q1 = 25%\n",
    "q2 = 50%\n",
    "q3 = 75%\n",
    "\n",
    "di dalam statistik q2 = median"
   ]
  },
  {
   "cell_type": "markdown",
   "id": "af8bdb37-44eb-4564-a35c-9b4bae5b96e7",
   "metadata": {},
   "source": [
    "### Correlation Matrix"
   ]
  },
  {
   "cell_type": "code",
   "execution_count": null,
   "id": "1f5a1100-81c9-4831-a3d4-274ce035c5c3",
   "metadata": {},
   "outputs": [],
   "source": [
    "iris_df.corr() # korelasi antar kolom"
   ]
  },
  {
   "cell_type": "markdown",
   "id": "2f1f0ddb-52ea-4fd2-bdde-b14a8e7e7213",
   "metadata": {},
   "source": [
    "## Iris Dataset: Data Visualisation"
   ]
  },
  {
   "cell_type": "markdown",
   "id": "3033b108-57da-47d2-96b7-a61ba7bd1add",
   "metadata": {},
   "source": [
    "### Import Modules"
   ]
  },
  {
   "cell_type": "code",
   "execution_count": null,
   "id": "2ac03378-6adc-4d3e-a040-f85d489cfd97",
   "metadata": {},
   "outputs": [],
   "source": [
    "import matplotlib.pyplot as plt # visualisasi data\n",
    "import seaborn as sns # visualisasi data\n",
    "\n",
    "# output dari visualisasi data akan diarahkan ke notebook\n",
    "%matplotlib inline"
   ]
  },
  {
   "cell_type": "markdown",
   "id": "5904eb47-8d75-4bef-8643-7bb02e19d54d",
   "metadata": {},
   "source": [
    "### Heatmap"
   ]
  },
  {
   "cell_type": "code",
   "execution_count": null,
   "id": "e2ceec25-6eaa-40ae-92f3-69b9540a9159",
   "metadata": {},
   "outputs": [],
   "source": [
    "sns.heatmap(data=iris_df.corr())"
   ]
  },
  {
   "cell_type": "markdown",
   "id": "32b29bd5-d954-495c-b167-bd6a4bb494ee",
   "metadata": {},
   "source": [
    "### Bar Plot"
   ]
  },
  {
   "cell_type": "code",
   "execution_count": null,
   "id": "24889048-ee57-4454-a7c9-2aa48fd9b1dc",
   "metadata": {},
   "outputs": [],
   "source": [
    "iris_df['Species'].value_counts() # menghitung jumlah setiap species"
   ]
  },
  {
   "cell_type": "code",
   "execution_count": null,
   "id": "2dceac1f-b54e-46b0-97e0-b24d73c08a2d",
   "metadata": {},
   "outputs": [],
   "source": [
    "iris_df['Species'].value_counts().plot.bar()\n",
    "plt.tight_layout()\n",
    "plt.show()"
   ]
  },
  {
   "cell_type": "code",
   "execution_count": null,
   "id": "cace1877-b3c4-4bfa-88e1-ef7e5a4b09b0",
   "metadata": {},
   "outputs": [],
   "source": [
    "sns.countplot(data=iris_df, x ='Species')\n",
    "plt.tight_layout()\n",
    "# sns.countplot?"
   ]
  },
  {
   "cell_type": "markdown",
   "id": "b7ba7255-6d97-4387-8ae6-98fa5ec55f03",
   "metadata": {},
   "source": [
    "### Pie Chart"
   ]
  },
  {
   "cell_type": "code",
   "execution_count": null,
   "id": "c0a293a2-f2e9-43e5-bc33-4488641c0a66",
   "metadata": {},
   "outputs": [],
   "source": [
    "iris_df['Species'].value_counts().plot.pie(autopct='%1.1f%%', labels=None, legend=True)\n",
    "plt.tight_layout()"
   ]
  },
  {
   "cell_type": "markdown",
   "id": "0e6e5d5b-e523-4b05-b348-4bbac695089e",
   "metadata": {},
   "source": [
    "### Line Plot"
   ]
  },
  {
   "cell_type": "code",
   "execution_count": null,
   "id": "b440f633-2a2a-45bd-8677-4fe44057ec1d",
   "metadata": {},
   "outputs": [],
   "source": [
    "fig,ax = plt.subplots(nrows=2, ncols=2, figsize=(8,8))\n",
    "\n",
    "iris_df['SepalLengthCm'].plot.line(ax=ax[0][0])\n",
    "ax[0][0].set_title('Sepal Length')\n",
    "\n",
    "iris_df['SepalWidthCm'].plot.line(ax=ax[0][1])\n",
    "ax[0][1].set_title('Sepal Width')\n",
    "\n",
    "iris_df.PetalLengthCm.plot.line(ax=ax[1][0])\n",
    "ax[1][0].set_title('Petal Length')\n",
    "\n",
    "iris_df.PetalWidthCm.plot.line(ax=ax[1][1])\n",
    "ax[1][1].set_title('Petal Width')"
   ]
  },
  {
   "cell_type": "code",
   "execution_count": null,
   "id": "74a32613-2958-49f4-8873-7de6f1df1e01",
   "metadata": {},
   "outputs": [],
   "source": [
    "iris_df.plot()\n",
    "plt.tight_layout()"
   ]
  },
  {
   "cell_type": "markdown",
   "id": "7b11ee24-8bbd-4d69-b751-463407428ffb",
   "metadata": {},
   "source": [
    "### Histogram"
   ]
  },
  {
   "cell_type": "code",
   "execution_count": null,
   "id": "78d4130f-f7a1-460f-95af-cca59494b056",
   "metadata": {},
   "outputs": [],
   "source": [
    "iris_df.hist(figsize=(6,6), bins=10)\n",
    "plt.tight_layout()"
   ]
  },
  {
   "cell_type": "markdown",
   "id": "9e07735f-26b8-4ef5-bf9e-000b0acef3ce",
   "metadata": {},
   "source": [
    "### Boxplot"
   ]
  },
  {
   "cell_type": "code",
   "execution_count": null,
   "id": "c98fd881-d6be-4f5a-b889-b9c157d5f4c0",
   "metadata": {},
   "outputs": [],
   "source": [
    "iris_df.boxplot()\n",
    "plt.tight_layout()"
   ]
  },
  {
   "cell_type": "code",
   "execution_count": null,
   "id": "5ff40eb0-6edf-4c86-8216-c8d241fb2253",
   "metadata": {},
   "outputs": [],
   "source": [
    "iris_df.boxplot(by='Species', figsize=(8,8))\n",
    "plt.tight_layout()"
   ]
  },
  {
   "cell_type": "markdown",
   "id": "2550e7ea-d5b6-4928-8f6b-8101dcb1de0c",
   "metadata": {},
   "source": [
    "### Scatter Plot"
   ]
  },
  {
   "cell_type": "code",
   "execution_count": null,
   "id": "3f9b20be-eba1-47dc-9d2a-8cc5157082b8",
   "metadata": {},
   "outputs": [],
   "source": [
    "sns.scatterplot(x='SepalLengthCm', y='SepalWidthCm', data=iris_df, hue='Species')\n",
    "plt.tight_layout()"
   ]
  },
  {
   "cell_type": "markdown",
   "id": "d6360a9e-7c53-42af-8878-603229d3e9d1",
   "metadata": {},
   "source": [
    "### Pair Plot"
   ]
  },
  {
   "cell_type": "code",
   "execution_count": null,
   "id": "30bb8c3d-120e-4827-9c57-a176bcc375e0",
   "metadata": {},
   "outputs": [],
   "source": [
    "sns.pairplot(iris_df, hue='Species', markers='+')\n",
    "plt.tight_layout()"
   ]
  },
  {
   "cell_type": "markdown",
   "id": "bcbce9d8-5335-4c2f-a450-a9eb2701cdd6",
   "metadata": {},
   "source": [
    "### Violin Plot"
   ]
  },
  {
   "cell_type": "code",
   "execution_count": null,
   "id": "a7f795a8-0c2a-4500-b4bc-c2399ed5ee8e",
   "metadata": {},
   "outputs": [],
   "source": [
    "sns.violinplot(data=iris_df, y='Species', x='SepalLengthCm', inner='quartile')\n",
    "plt.tight_layout()"
   ]
  },
  {
   "cell_type": "markdown",
   "id": "1b5e5c64-edbb-443c-979a-76bfeeb78c21",
   "metadata": {},
   "source": [
    "## Iris Dataset: Classification Models"
   ]
  },
  {
   "cell_type": "markdown",
   "id": "be8f7931-40ff-4b8d-91dd-32362317247c",
   "metadata": {},
   "source": [
    "### Import Modules"
   ]
  },
  {
   "cell_type": "code",
   "execution_count": null,
   "id": "53ff6644-5d7a-483a-87a4-16852c43b902",
   "metadata": {},
   "outputs": [],
   "source": [
    "from sklearn.model_selection import train_test_split # pembagi dataset menjadi training dan testing set\n",
    "from sklearn.metrics import accuracy_score, confusion_matrix, classification_report # evaluasi performa model"
   ]
  },
  {
   "cell_type": "markdown",
   "id": "9203f21e-e44b-425a-bee5-2d68f682183f",
   "metadata": {},
   "source": [
    "### Dataset: Features & Class Label"
   ]
  },
  {
   "cell_type": "code",
   "execution_count": null,
   "id": "1eac8b02-ec00-45b9-92f3-6cbf0f3ece0e",
   "metadata": {},
   "outputs": [],
   "source": [
    "X = iris_df.drop(columns='Species') # menampilkan features ke dalam variable x\n",
    "X.head() # tampilkan 5 baris pertama"
   ]
  },
  {
   "cell_type": "code",
   "execution_count": null,
   "id": "656ec691-2583-4b53-b7f8-d508ddfc4fc7",
   "metadata": {},
   "outputs": [],
   "source": [
    "y = iris_df['Species'] # menempatkan class label (target) ke dalam variable y\n",
    "y.head() # tampilkan 5 baris pertama"
   ]
  },
  {
   "cell_type": "markdown",
   "id": "4c99837a-2557-47d3-a66a-0cb5305b0865",
   "metadata": {},
   "source": [
    "### Split the dataset into a training set and a testing set"
   ]
  },
  {
   "cell_type": "code",
   "execution_count": null,
   "id": "321f5b4b-a1a5-45c4-9947-e85c9c5ee7ad",
   "metadata": {},
   "outputs": [],
   "source": [
    "# membagi dataset ke dalam training dan testing set\n",
    "X_train, X_test, y_train, y_test = train_test_split(X, y, test_size=0.4, random_state=10)\n",
    "\n",
    "print('training dataset')\n",
    "print(X_train.shape)\n",
    "print(y_train.shape)\n",
    "print()\n",
    "print('testing dataset')\n",
    "print(X_test.shape)\n",
    "print(y_test.shape)"
   ]
  },
  {
   "cell_type": "markdown",
   "id": "3a2fdf0b-e9d1-401c-8532-06f89e286168",
   "metadata": {},
   "source": [
    "## K Nearest Neighbors"
   ]
  },
  {
   "cell_type": "markdown",
   "id": "276f0606-4b56-4279-8ddb-aeeae9304571",
   "metadata": {},
   "source": [
    "### Import Modules\n",
    "#### selain untuk klasifikasi K Nearest Neighbors juga digunakan untuk regresi"
   ]
  },
  {
   "cell_type": "code",
   "execution_count": null,
   "id": "e27a556e-3dbd-4ee3-b11e-39830bd5e25d",
   "metadata": {},
   "outputs": [],
   "source": [
    "from sklearn.neighbors import KNeighborsClassifier"
   ]
  },
  {
   "cell_type": "code",
   "execution_count": null,
   "id": "51ebf26d-d34a-41b8-a74b-45bc85eb4f7e",
   "metadata": {},
   "outputs": [],
   "source": [
    "k_range = list(range(1,26))\n",
    "scores = []\n",
    "for k in k_range:\n",
    "    model_knn = KNeighborsClassifier(n_neighbors=k) # konfigurasi algoritma\n",
    "    model_knn.fit(X_train, y_train) # training model/classifier\n",
    "    y_pred = model_knn.predict(X_test) # melakukan prediksi\n",
    "    scores.append(accuracy_score(y_test, y_pred)) # evaluasi performa"
   ]
  },
  {
   "cell_type": "code",
   "execution_count": null,
   "id": "7fb50f0a-c305-4913-becc-81a67172f1a9",
   "metadata": {},
   "outputs": [],
   "source": [
    "plt.plot(k_range, scores)\n",
    "plt.xlabel('Value of k for KNN')\n",
    "plt.ylabel('Accuracy Score')\n",
    "plt.title('Accuracy Scores for Values of k of k-Nearest-Neighbors')\n",
    "plt.tight_layout()\n",
    "plt.show()"
   ]
  },
  {
   "cell_type": "code",
   "execution_count": null,
   "id": "ce67d351-4f6d-4849-96ba-3b65a6fa11c5",
   "metadata": {},
   "outputs": [],
   "source": [
    "model_knn = KNeighborsClassifier(n_neighbors=3) # konfigurasi algoritma\n",
    "model_knn.fit(X_train, y_train) # training model/classifier\n",
    "y_pred = model_knn.predict(X_test) # melakukan prediksi"
   ]
  },
  {
   "cell_type": "markdown",
   "id": "7367b286-dd9b-4e74-9473-cdca2d74abff",
   "metadata": {},
   "source": [
    "### Accuracy Score"
   ]
  },
  {
   "cell_type": "code",
   "execution_count": null,
   "id": "bdb61c62-bd42-408a-b085-9f8fd7ba52a7",
   "metadata": {},
   "outputs": [],
   "source": [
    "print(accuracy_score(y_test, y_pred)) # evaluasi akurasi"
   ]
  },
  {
   "cell_type": "markdown",
   "id": "ce0aa9c0-d973-402e-8f83-1ff89b4777fb",
   "metadata": {},
   "source": [
    "### Confusion Matrix"
   ]
  },
  {
   "cell_type": "code",
   "execution_count": null,
   "id": "8eed9231-ab9f-4d8a-a719-68c39f5039d0",
   "metadata": {},
   "outputs": [],
   "source": [
    "print(confusion_matrix(y_test, y_pred)) # evaluasi confusion matrix"
   ]
  },
  {
   "cell_type": "markdown",
   "id": "e65235cc-a402-4c2b-be81-d69f9cc36025",
   "metadata": {},
   "source": [
    "### Classification Report"
   ]
  },
  {
   "cell_type": "code",
   "execution_count": null,
   "id": "eb54f621-a8e0-447b-a33c-696dffbab81b",
   "metadata": {},
   "outputs": [],
   "source": [
    "print(classification_report(y_test, y_pred)) # evaluasi klasifikasi"
   ]
  },
  {
   "cell_type": "markdown",
   "id": "9dd81c95-b196-4622-84b2-22976846a346",
   "metadata": {},
   "source": [
    "### Logistic Regression"
   ]
  },
  {
   "cell_type": "code",
   "execution_count": null,
   "id": "204d9a13-244e-4d5d-896d-6dbb7f5e3fe3",
   "metadata": {},
   "outputs": [],
   "source": [
    "from sklearn.linear_model import LogisticRegression"
   ]
  },
  {
   "cell_type": "code",
   "execution_count": null,
   "id": "ae18e474-317f-4b0c-a259-c824956551b5",
   "metadata": {},
   "outputs": [],
   "source": [
    "# model_logreg = LogisticRegression()\n",
    "model_logreg = LogisticRegression(solver='lbfgs', multi_class='auto')\n",
    "model_logreg.fit(X_train, y_train)\n",
    "y_pred = model_logreg.predict(X_test)"
   ]
  },
  {
   "cell_type": "markdown",
   "id": "1178b54a-77ed-4812-902a-746efff9ff9b",
   "metadata": {},
   "source": [
    "### Accuracy Score"
   ]
  },
  {
   "cell_type": "code",
   "execution_count": null,
   "id": "65436af5-c3b2-4765-8f62-aa35d0e24728",
   "metadata": {},
   "outputs": [],
   "source": [
    "print(accuracy_score(y_test, y_pred))"
   ]
  },
  {
   "cell_type": "markdown",
   "id": "fee87d86-5984-4c62-bfc2-103cd4ca701b",
   "metadata": {},
   "source": [
    "### Confusion Matrix"
   ]
  },
  {
   "cell_type": "code",
   "execution_count": null,
   "id": "f50abf84-fa57-461a-997c-0a359eaf10df",
   "metadata": {},
   "outputs": [],
   "source": [
    "print(confusion_matrix(y_test, y_pred))"
   ]
  },
  {
   "cell_type": "markdown",
   "id": "4ba35f19-8058-49da-9f05-f04a024dcb33",
   "metadata": {},
   "source": [
    "### Classification Report"
   ]
  },
  {
   "cell_type": "code",
   "execution_count": null,
   "id": "2cfc4d48-bc15-49b0-8e9f-483013010fd1",
   "metadata": {},
   "outputs": [],
   "source": [
    "print(classification_report(y_test, y_pred))"
   ]
  },
  {
   "cell_type": "markdown",
   "id": "3fe5bdcf-b863-4ba6-a20d-e5ebab12df8c",
   "metadata": {},
   "source": [
    "### Support Vector Classifier"
   ]
  },
  {
   "cell_type": "code",
   "execution_count": null,
   "id": "55e95619-b253-4b72-8170-9f8481a2ce8b",
   "metadata": {},
   "outputs": [],
   "source": [
    "from sklearn.svm import SVC"
   ]
  },
  {
   "cell_type": "code",
   "execution_count": null,
   "id": "6749aa69-1439-48e3-8beb-f6f81f864514",
   "metadata": {},
   "outputs": [],
   "source": [
    "# model_svc = SVC()\n",
    "model_svc = SVC(gamma='scale')\n",
    "model_svc.fit(X_train, y_train)\n",
    "y_pred = model_svc.predict(X_test)"
   ]
  },
  {
   "cell_type": "markdown",
   "id": "c4757cc8-44fe-4db7-b2ca-29c1ccf2abd1",
   "metadata": {},
   "source": [
    "### Decision Tree Classifier"
   ]
  },
  {
   "cell_type": "code",
   "execution_count": null,
   "id": "cd7ce444-9871-4644-b088-c8900177b879",
   "metadata": {},
   "outputs": [],
   "source": [
    "from sklearn.tree import DecisionTreeClassifier"
   ]
  },
  {
   "cell_type": "code",
   "execution_count": null,
   "id": "d8b4633c-bdf1-40dd-8cda-76ce5a646bbe",
   "metadata": {},
   "outputs": [],
   "source": [
    "model_dt = DecisionTreeClassifier()\n",
    "model_dt.fit(X_train, y_train)\n",
    "y_pred = model_dt.predict(X_test)"
   ]
  },
  {
   "cell_type": "markdown",
   "id": "8a951d50-7f01-4506-b237-7b94132c2e13",
   "metadata": {},
   "source": [
    "### Random Forest Classifier"
   ]
  },
  {
   "cell_type": "code",
   "execution_count": null,
   "id": "fcaf6bbf-bacd-467f-84f8-7ee8929a4e05",
   "metadata": {},
   "outputs": [],
   "source": [
    "from sklearn.ensemble import RandomForestClassifier"
   ]
  },
  {
   "cell_type": "code",
   "execution_count": null,
   "id": "d4bb8952-086d-49aa-b7fa-fc35f4e1da71",
   "metadata": {},
   "outputs": [],
   "source": [
    "# model_rf = RandomForestClassifier()\n",
    "model_rf = RandomForestClassifier(n_estimators=100)\n",
    "model_rf.fit(X_train, y_train)\n",
    "pred_rf = model_rf.predict(X_test)"
   ]
  },
  {
   "cell_type": "markdown",
   "id": "22461a98-c549-49f6-96ff-929d0c035289",
   "metadata": {},
   "source": [
    "### Accuracy comparision for various models."
   ]
  },
  {
   "cell_type": "code",
   "execution_count": null,
   "id": "48f3cc69-7e1f-46a2-9e4a-3fd476df83ea",
   "metadata": {},
   "outputs": [],
   "source": [
    "models = [model_knn, model_logreg, model_svc, model_dt, model_rf]\n",
    "accuracy_scores = []\n",
    "for model in models:\n",
    "    pred = model.predict(X_test)\n",
    "    accuracy = accuracy_score(y_test, y_pred)\n",
    "    accuracy_scores.append(accuracy)\n",
    "\n",
    "print(accuracy_scores)"
   ]
  },
  {
   "cell_type": "code",
   "execution_count": null,
   "id": "f9743d73-2023-499b-a819-b0f4b6818592",
   "metadata": {},
   "outputs": [],
   "source": [
    "plt.bar(['KNN', 'LogReg', 'SVC', 'DT', 'RF'], accuracy_scores)\n",
    "plt.ylim(0.90,1.01)\n",
    "plt.title('Accuracy comparision for various models', fontsize=15, color='r')\n",
    "plt.xlabel('Models', fontsize=18, color='g')\n",
    "plt.ylabel('Accuracy Score', fontsize=18, color='g')\n",
    "plt.tight_layout()\n",
    "plt.show()"
   ]
  },
  {
   "cell_type": "code",
   "execution_count": null,
   "id": "520a2315-0322-4d3f-b80e-10f60fe05728",
   "metadata": {},
   "outputs": [],
   "source": [
    "# Save model to pickle\n",
    "pd.to_pickle(model_dt, r'./Iris.pickle')"
   ]
  },
  {
   "cell_type": "code",
   "execution_count": null,
   "id": "d7bef848-9e89-465c-a4ce-872b90f63431",
   "metadata": {},
   "outputs": [],
   "source": [
    "# Test input and predict\n",
    "model_apps = pd.read_pickle(r'./Iris.pickle')"
   ]
  },
  {
   "cell_type": "code",
   "execution_count": null,
   "id": "13e256bf-31a1-4ac5-ac8e-aa0ee98382e6",
   "metadata": {},
   "outputs": [],
   "source": [
    "# Take input from user\n",
    "sepal_length = float(input('Enter sepal_length: '))\n",
    "sepal_width = float(input('Enter sepal_width: '))\n",
    "petal_length = float(input('Enter petal_length: '))\n",
    "petal_width = float(input('Enter petal_width: '))\n",
    "\n",
    "result = model_apps.predict([[sepal_length, sepal_width, petal_length, petal_width]]) # input must be 2D array\n",
    "print(result)"
   ]
  }
 ],
 "metadata": {
  "kernelspec": {
   "display_name": "Python 3 (ipykernel)",
   "language": "python",
   "name": "python3"
  },
  "language_info": {
   "codemirror_mode": {
    "name": "ipython",
    "version": 3
   },
   "file_extension": ".py",
   "mimetype": "text/x-python",
   "name": "python",
   "nbconvert_exporter": "python",
   "pygments_lexer": "ipython3",
   "version": "3.10.8"
  }
 },
 "nbformat": 4,
 "nbformat_minor": 5
}
